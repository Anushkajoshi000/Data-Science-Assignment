{
  "nbformat": 4,
  "nbformat_minor": 0,
  "metadata": {
    "colab": {
      "provenance": [],
      "authorship_tag": "ABX9TyOOWWDBGxSMgn8nRyY3GNty",
      "include_colab_link": true
    },
    "kernelspec": {
      "name": "python3",
      "display_name": "Python 3"
    },
    "language_info": {
      "name": "python"
    }
  },
  "cells": [
    {
      "cell_type": "markdown",
      "metadata": {
        "id": "view-in-github",
        "colab_type": "text"
      },
      "source": [
        "<a href=\"https://colab.research.google.com/github/Anushkajoshi000/Data-Science-Assignment/blob/main/Datascience_Lab_Assignment_.ipynb\" target=\"_parent\"><img src=\"https://colab.research.google.com/assets/colab-badge.svg\" alt=\"Open In Colab\"/></a>"
      ]
    },
    {
      "cell_type": "markdown",
      "source": [
        "#1: Basics of Coding R/Python\n",
        "\n",
        "\n"
      ],
      "metadata": {
        "id": "_Noj4ENg_3bC"
      }
    },
    {
      "cell_type": "markdown",
      "source": [
        "Using Comments R/Python\n"
      ],
      "metadata": {
        "id": "R7_DeFL0_8Gu"
      }
    },
    {
      "cell_type": "code",
      "source": [
        "# This is a comment in Python\n"
      ],
      "metadata": {
        "id": "fS9yRaaW19kQ"
      },
      "execution_count": 2,
      "outputs": []
    },
    {
      "cell_type": "markdown",
      "source": [
        "Executing Commands R/Python\n"
      ],
      "metadata": {
        "id": "egSqhw3n__dq"
      }
    },
    {
      "cell_type": "code",
      "source": [
        "# Example command in Python\n",
        "result = 2 + 3\n",
        "print(result)\n"
      ],
      "metadata": {
        "colab": {
          "base_uri": "https://localhost:8080/"
        },
        "id": "WYM_FF5m2AmD",
        "outputId": "26d52414-4a92-4765-91c8-321d9c253116"
      },
      "execution_count": 3,
      "outputs": [
        {
          "output_type": "stream",
          "name": "stdout",
          "text": [
            "5\n"
          ]
        }
      ]
    },
    {
      "cell_type": "markdown",
      "source": [
        "Importing Packages R/Python\n"
      ],
      "metadata": {
        "id": "v61h7-VQACBP"
      }
    },
    {
      "cell_type": "code",
      "source": [
        "# Install and import a package\n",
        "!pip install pandas\n",
        "import pandas as pd\n"
      ],
      "metadata": {
        "colab": {
          "base_uri": "https://localhost:8080/"
        },
        "id": "bz6UbLMM2Dnv",
        "outputId": "7f9af181-45f9-4fa5-85bd-4079803c3301"
      },
      "execution_count": 5,
      "outputs": [
        {
          "output_type": "stream",
          "name": "stdout",
          "text": [
            "Requirement already satisfied: pandas in /usr/local/lib/python3.10/dist-packages (1.5.3)\n",
            "Requirement already satisfied: python-dateutil>=2.8.1 in /usr/local/lib/python3.10/dist-packages (from pandas) (2.8.2)\n",
            "Requirement already satisfied: pytz>=2020.1 in /usr/local/lib/python3.10/dist-packages (from pandas) (2023.3.post1)\n",
            "Requirement already satisfied: numpy>=1.21.0 in /usr/local/lib/python3.10/dist-packages (from pandas) (1.23.5)\n",
            "Requirement already satisfied: six>=1.5 in /usr/local/lib/python3.10/dist-packages (from python-dateutil>=2.8.1->pandas) (1.16.0)\n"
          ]
        }
      ]
    },
    {
      "cell_type": "markdown",
      "source": [
        "Getting Data into R\n"
      ],
      "metadata": {
        "id": "R_41zxj9AGbH"
      }
    },
    {
      "cell_type": "code",
      "execution_count": 1,
      "metadata": {
        "colab": {
          "base_uri": "https://localhost:8080/"
        },
        "id": "IehstHGJYkIA",
        "outputId": "ac661bd2-ae61-4ba8-c2eb-397efd621860"
      },
      "outputs": [
        {
          "output_type": "stream",
          "name": "stdout",
          "text": [
            "[{'Series': 'I', 'X': 10.0, 'Y': 8.04}, {'Series': 'I', 'X': 8.0, 'Y': 6.95}, {'Series': 'I', 'X': 13.0, 'Y': 7.58}, {'Series': 'I', 'X': 9.0, 'Y': 8.81}, {'Series': 'I', 'X': 11.0, 'Y': 8.33}, {'Series': 'I', 'X': 14.0, 'Y': 9.96}, {'Series': 'I', 'X': 6.0, 'Y': 7.24}, {'Series': 'I', 'X': 4.0, 'Y': 4.26}, {'Series': 'I', 'X': 12.0, 'Y': 10.84}, {'Series': 'I', 'X': 7.0, 'Y': 4.81}, {'Series': 'I', 'X': 5.0, 'Y': 5.68}, {'Series': 'II', 'X': 10.0, 'Y': 9.14}, {'Series': 'II', 'X': 8.0, 'Y': 8.14}, {'Series': 'II', 'X': 13.0, 'Y': 8.74}, {'Series': 'II', 'X': 9.0, 'Y': 8.77}, {'Series': 'II', 'X': 11.0, 'Y': 9.26}, {'Series': 'II', 'X': 14.0, 'Y': 8.1}, {'Series': 'II', 'X': 6.0, 'Y': 6.13}, {'Series': 'II', 'X': 4.0, 'Y': 3.1}, {'Series': 'II', 'X': 12.0, 'Y': 9.13}, {'Series': 'II', 'X': 7.0, 'Y': 7.26}, {'Series': 'II', 'X': 5.0, 'Y': 4.74}, {'Series': 'III', 'X': 10.0, 'Y': 7.46}, {'Series': 'III', 'X': 8.0, 'Y': 6.77}, {'Series': 'III', 'X': 13.0, 'Y': 12.74}, {'Series': 'III', 'X': 9.0, 'Y': 7.11}, {'Series': 'III', 'X': 11.0, 'Y': 7.81}, {'Series': 'III', 'X': 14.0, 'Y': 8.84}, {'Series': 'III', 'X': 6.0, 'Y': 6.08}, {'Series': 'III', 'X': 4.0, 'Y': 5.39}, {'Series': 'III', 'X': 12.0, 'Y': 8.15}, {'Series': 'III', 'X': 7.0, 'Y': 6.42}, {'Series': 'III', 'X': 5.0, 'Y': 5.73}, {'Series': 'IV', 'X': 8.0, 'Y': 6.58}, {'Series': 'IV', 'X': 8.0, 'Y': 5.76}, {'Series': 'IV', 'X': 8.0, 'Y': 7.71}, {'Series': 'IV', 'X': 8.0, 'Y': 8.84}, {'Series': 'IV', 'X': 8.0, 'Y': 8.47}, {'Series': 'IV', 'X': 8.0, 'Y': 7.04}, {'Series': 'IV', 'X': 8.0, 'Y': 5.25}, {'Series': 'IV', 'X': 19.0, 'Y': 12.5}, {'Series': 'IV', 'X': 8.0, 'Y': 5.56}, {'Series': 'IV', 'X': 8.0, 'Y': 7.91}, {'Series': 'IV', 'X': 8.0, 'Y': 6.89}]\n"
          ]
        }
      ],
      "source": [
        "import json\n",
        "\n",
        "file_path = \"/content/sample_data/anscombe.json\"\n",
        "\n",
        "# Load the JSON data from the file\n",
        "with open(file_path, 'r') as file:\n",
        "    anscombe_data = json.load(file)\n",
        "\n",
        "# Display the content of the dataset\n",
        "print(anscombe_data)\n"
      ]
    },
    {
      "cell_type": "markdown",
      "source": [
        "Saving Output R/Python\n"
      ],
      "metadata": {
        "id": "JCbNE7V7AKC3"
      }
    },
    {
      "cell_type": "code",
      "source": [
        "# Reading data from a CSV file\n",
        "data = pd.read_csv(\"/content/sample_data/anscombe.json\")\n"
      ],
      "metadata": {
        "id": "DQsakysf2KAv"
      },
      "execution_count": 6,
      "outputs": []
    },
    {
      "cell_type": "code",
      "source": [
        "# Save a DataFrame to a CSV file\n",
        "data.to_csv(\"/content/sample_data/anscombe.json\", index=False)\n"
      ],
      "metadata": {
        "id": "aKgwmhXy2QzV"
      },
      "execution_count": 7,
      "outputs": []
    },
    {
      "cell_type": "markdown",
      "source": [
        "Accessing Records and Variables R/Python"
      ],
      "metadata": {
        "id": "KhTBnOcpAPbZ"
      }
    },
    {
      "cell_type": "code",
      "source": [
        "# Display the structure of the dataset\n",
        "print(type(anscombe_data))\n",
        "\n",
        "# View the first few elements of the dataset\n",
        "print(anscombe_data)\n"
      ],
      "metadata": {
        "colab": {
          "base_uri": "https://localhost:8080/"
        },
        "id": "e6O2ScRk3mOo",
        "outputId": "b4f5788f-2aaf-44ea-a32c-08ab73ef2be0"
      },
      "execution_count": 9,
      "outputs": [
        {
          "output_type": "stream",
          "name": "stdout",
          "text": [
            "<class 'list'>\n",
            "[{'Series': 'I', 'X': 10.0, 'Y': 8.04}, {'Series': 'I', 'X': 8.0, 'Y': 6.95}, {'Series': 'I', 'X': 13.0, 'Y': 7.58}, {'Series': 'I', 'X': 9.0, 'Y': 8.81}, {'Series': 'I', 'X': 11.0, 'Y': 8.33}, {'Series': 'I', 'X': 14.0, 'Y': 9.96}, {'Series': 'I', 'X': 6.0, 'Y': 7.24}, {'Series': 'I', 'X': 4.0, 'Y': 4.26}, {'Series': 'I', 'X': 12.0, 'Y': 10.84}, {'Series': 'I', 'X': 7.0, 'Y': 4.81}, {'Series': 'I', 'X': 5.0, 'Y': 5.68}, {'Series': 'II', 'X': 10.0, 'Y': 9.14}, {'Series': 'II', 'X': 8.0, 'Y': 8.14}, {'Series': 'II', 'X': 13.0, 'Y': 8.74}, {'Series': 'II', 'X': 9.0, 'Y': 8.77}, {'Series': 'II', 'X': 11.0, 'Y': 9.26}, {'Series': 'II', 'X': 14.0, 'Y': 8.1}, {'Series': 'II', 'X': 6.0, 'Y': 6.13}, {'Series': 'II', 'X': 4.0, 'Y': 3.1}, {'Series': 'II', 'X': 12.0, 'Y': 9.13}, {'Series': 'II', 'X': 7.0, 'Y': 7.26}, {'Series': 'II', 'X': 5.0, 'Y': 4.74}, {'Series': 'III', 'X': 10.0, 'Y': 7.46}, {'Series': 'III', 'X': 8.0, 'Y': 6.77}, {'Series': 'III', 'X': 13.0, 'Y': 12.74}, {'Series': 'III', 'X': 9.0, 'Y': 7.11}, {'Series': 'III', 'X': 11.0, 'Y': 7.81}, {'Series': 'III', 'X': 14.0, 'Y': 8.84}, {'Series': 'III', 'X': 6.0, 'Y': 6.08}, {'Series': 'III', 'X': 4.0, 'Y': 5.39}, {'Series': 'III', 'X': 12.0, 'Y': 8.15}, {'Series': 'III', 'X': 7.0, 'Y': 6.42}, {'Series': 'III', 'X': 5.0, 'Y': 5.73}, {'Series': 'IV', 'X': 8.0, 'Y': 6.58}, {'Series': 'IV', 'X': 8.0, 'Y': 5.76}, {'Series': 'IV', 'X': 8.0, 'Y': 7.71}, {'Series': 'IV', 'X': 8.0, 'Y': 8.84}, {'Series': 'IV', 'X': 8.0, 'Y': 8.47}, {'Series': 'IV', 'X': 8.0, 'Y': 7.04}, {'Series': 'IV', 'X': 8.0, 'Y': 5.25}, {'Series': 'IV', 'X': 19.0, 'Y': 12.5}, {'Series': 'IV', 'X': 8.0, 'Y': 5.56}, {'Series': 'IV', 'X': 8.0, 'Y': 7.91}, {'Series': 'IV', 'X': 8.0, 'Y': 6.89}]\n"
          ]
        }
      ]
    },
    {
      "cell_type": "code",
      "source": [
        "# Accessing the 'X' column\n",
        "x_column = [entry['X'] for entry in anscombe_data]\n",
        "\n",
        "# Accessing the 'Y' column\n",
        "y_column = [entry['Y'] for entry in anscombe_data]\n"
      ],
      "metadata": {
        "id": "Lv5MrRcS2XKf"
      },
      "execution_count": 10,
      "outputs": []
    },
    {
      "cell_type": "code",
      "source": [
        "# Accessing the first record (index 0)\n",
        "first_record = anscombe_data[0]\n",
        "\n",
        "# Accessing the record at a specific row number (replace row_number with the desired row index)\n",
        "row_number = 2\n",
        "specific_record = anscombe_data[row_number - 1]  # Adjust for 0-based indexing\n"
      ],
      "metadata": {
        "id": "OGK8Y23o1ceC"
      },
      "execution_count": 11,
      "outputs": []
    },
    {
      "cell_type": "markdown",
      "source": [
        "#2: DATA PREPARATION\n"
      ],
      "metadata": {
        "id": "52b2XdzyAWtZ"
      }
    },
    {
      "cell_type": "markdown",
      "source": [
        "How to Add an Index Field Using R/Python\n"
      ],
      "metadata": {
        "id": "F1YjsGeoAV-0"
      }
    },
    {
      "cell_type": "code",
      "source": [
        "# Adding an index field\n",
        "anscombe_data_with_index = [{'index': idx, **entry} for idx, entry in enumerate(anscombe_data, start=1)]\n"
      ],
      "metadata": {
        "id": "RN_KmW8S4Svk"
      },
      "execution_count": 12,
      "outputs": []
    },
    {
      "cell_type": "markdown",
      "source": [
        "How to Change Misleading Field Values Using R/Python\n"
      ],
      "metadata": {
        "id": "62J5OE0TAwNE"
      }
    },
    {
      "cell_type": "code",
      "source": [
        "# Change misleading values in the 'Series' field\n",
        "for entry in anscombe_data:\n",
        "    if entry['Series'] == 'I':\n",
        "        entry['Series'] = 'Category_I'\n",
        "    elif entry['Series'] == 'II':\n",
        "        entry['Series'] = 'Category_II'\n",
        "    elif entry['Series'] == 'III':\n",
        "        entry['Series'] = 'Category_III'\n",
        "    elif entry['Series'] == 'IV':\n",
        "        entry['Series'] = 'Category_IV'\n"
      ],
      "metadata": {
        "id": "gIvk7SVJ4a-T"
      },
      "execution_count": 13,
      "outputs": []
    },
    {
      "cell_type": "markdown",
      "source": [
        "How to Reexpress Categorical Field Values Using R/Python\n"
      ],
      "metadata": {
        "id": "Td0AQUfUAxeI"
      }
    },
    {
      "cell_type": "code",
      "source": [
        "import pandas as pd\n",
        "\n",
        "# Convert the data to a pandas DataFrame for easier manipulation\n",
        "df = pd.DataFrame(anscombe_data)\n",
        "\n",
        "# Use one-hot encoding to create dummy variables for the 'Series' field\n",
        "df_encoded = pd.get_dummies(df, columns=['Series'], prefix='Series')\n",
        "anscombe_data_reexpressed = df_encoded.to_dict(orient='records')\n"
      ],
      "metadata": {
        "id": "NDirwkj84dOo"
      },
      "execution_count": 14,
      "outputs": []
    },
    {
      "cell_type": "markdown",
      "source": [
        "How to Standardise Numeric Fields Using R/Python\n"
      ],
      "metadata": {
        "id": "Jton8ecjAz-Q"
      }
    },
    {
      "cell_type": "code",
      "source": [
        "from sklearn.preprocessing import StandardScaler\n",
        "\n",
        "# Extract numeric columns\n",
        "numeric_columns = ['X', 'Y']\n",
        "\n",
        "# Create a DataFrame with only numeric columns\n",
        "df_numeric = pd.DataFrame(anscombe_data)[numeric_columns]\n",
        "\n",
        "# Standardize the numeric columns\n",
        "scaler = StandardScaler()\n",
        "df_standardized = pd.DataFrame(scaler.fit_transform(df_numeric), columns=numeric_columns)\n",
        "\n",
        "# Combine the standardized numeric columns with the categorical columns\n",
        "anscombe_data_standardized = pd.concat([df[['Series']], df_standardized], axis=1).to_dict(orient='records')\n"
      ],
      "metadata": {
        "id": "cFP6phzP4hQT"
      },
      "execution_count": 15,
      "outputs": []
    },
    {
      "cell_type": "markdown",
      "source": [
        "How to Identify Outliers Using R/Python\n",
        "\n"
      ],
      "metadata": {
        "id": "eMjv2TlcA5AZ"
      }
    },
    {
      "cell_type": "code",
      "source": [
        "from scipy.stats import zscore\n",
        "\n",
        "# Calculate the Z-scores for numeric columns\n",
        "z_scores = pd.DataFrame(anscombe_data)[numeric_columns].apply(zscore)\n",
        "\n",
        "# Identify outliers (e.g., values with Z-score > 3 or Z-score < -3)\n",
        "outliers = z_scores[(z_scores > 3) | (z_scores < -3)]\n",
        "\n",
        "# Print the rows containing outliers\n",
        "print(\"Rows with outliers:\")\n",
        "print(pd.DataFrame(anscombe_data).iloc[outliers.index])\n"
      ],
      "metadata": {
        "colab": {
          "base_uri": "https://localhost:8080/"
        },
        "id": "gZXvj0fs4kn_",
        "outputId": "f1f2c473-e9b7-4a8b-da5a-8fefca9500c5"
      },
      "execution_count": 16,
      "outputs": [
        {
          "output_type": "stream",
          "name": "stdout",
          "text": [
            "Rows with outliers:\n",
            "          Series     X      Y\n",
            "0     Category_I  10.0   8.04\n",
            "1     Category_I   8.0   6.95\n",
            "2     Category_I  13.0   7.58\n",
            "3     Category_I   9.0   8.81\n",
            "4     Category_I  11.0   8.33\n",
            "5     Category_I  14.0   9.96\n",
            "6     Category_I   6.0   7.24\n",
            "7     Category_I   4.0   4.26\n",
            "8     Category_I  12.0  10.84\n",
            "9     Category_I   7.0   4.81\n",
            "10    Category_I   5.0   5.68\n",
            "11   Category_II  10.0   9.14\n",
            "12   Category_II   8.0   8.14\n",
            "13   Category_II  13.0   8.74\n",
            "14   Category_II   9.0   8.77\n",
            "15   Category_II  11.0   9.26\n",
            "16   Category_II  14.0   8.10\n",
            "17   Category_II   6.0   6.13\n",
            "18   Category_II   4.0   3.10\n",
            "19   Category_II  12.0   9.13\n",
            "20   Category_II   7.0   7.26\n",
            "21   Category_II   5.0   4.74\n",
            "22  Category_III  10.0   7.46\n",
            "23  Category_III   8.0   6.77\n",
            "24  Category_III  13.0  12.74\n",
            "25  Category_III   9.0   7.11\n",
            "26  Category_III  11.0   7.81\n",
            "27  Category_III  14.0   8.84\n",
            "28  Category_III   6.0   6.08\n",
            "29  Category_III   4.0   5.39\n",
            "30  Category_III  12.0   8.15\n",
            "31  Category_III   7.0   6.42\n",
            "32  Category_III   5.0   5.73\n",
            "33   Category_IV   8.0   6.58\n",
            "34   Category_IV   8.0   5.76\n",
            "35   Category_IV   8.0   7.71\n",
            "36   Category_IV   8.0   8.84\n",
            "37   Category_IV   8.0   8.47\n",
            "38   Category_IV   8.0   7.04\n",
            "39   Category_IV   8.0   5.25\n",
            "40   Category_IV  19.0  12.50\n",
            "41   Category_IV   8.0   5.56\n",
            "42   Category_IV   8.0   7.91\n",
            "43   Category_IV   8.0   6.89\n"
          ]
        }
      ]
    },
    {
      "cell_type": "markdown",
      "source": [
        "#3: EXPLORATORY DATA ANALYSIS\n"
      ],
      "metadata": {
        "id": "-WtLqlwCA8Hv"
      }
    },
    {
      "cell_type": "markdown",
      "source": [
        " How to Construct a Bar Graph with Overlay Using R/Python\n"
      ],
      "metadata": {
        "id": "e1i61MgdA_Kg"
      }
    },
    {
      "cell_type": "code",
      "source": [
        "import matplotlib.pyplot as plt\n",
        "\n",
        "# Group the data by the 'Series' field and calculate the count\n",
        "series_counts = pd.DataFrame(anscombe_data)['Series'].value_counts()\n",
        "\n",
        "# Plot a bar graph with overlay\n",
        "plt.bar(series_counts.index, series_counts.values, color='blue', alpha=0.7, label='Count')\n",
        "plt.xlabel('Series')\n",
        "plt.ylabel('Count')\n",
        "plt.title('Bar Graph with Overlay')\n",
        "plt.legend()\n",
        "plt.show()\n"
      ],
      "metadata": {
        "colab": {
          "base_uri": "https://localhost:8080/",
          "height": 472
        },
        "id": "0m7EZhAl4xTs",
        "outputId": "0be62355-8327-4448-b4b1-14b583021ba4"
      },
      "execution_count": 17,
      "outputs": [
        {
          "output_type": "display_data",
          "data": {
            "text/plain": [
              "<Figure size 640x480 with 1 Axes>"
            ],
            "image/png": "[encoded data removed]"
          },
          "metadata": {}
        }
      ]
    },
    {
      "cell_type": "markdown",
      "source": [
        " How to Construct Contingency Tables Using R/Python"
      ],
      "metadata": {
        "id": "h-An2flYBCM3"
      }
    },
    {
      "cell_type": "code",
      "source": [
        "# Construct a contingency table\n",
        "contingency_table = pd.crosstab(pd.DataFrame(anscombe_data)['Series'], columns='count')\n",
        "\n",
        "# Display the contingency table\n",
        "print(\"Contingency Table:\")\n",
        "print(contingency_table)\n"
      ],
      "metadata": {
        "colab": {
          "base_uri": "https://localhost:8080/"
        },
        "id": "AvhobPoT5a46",
        "outputId": "419fd63e-ad60-4150-a6f2-c6a6e2911844"
      },
      "execution_count": 18,
      "outputs": [
        {
          "output_type": "stream",
          "name": "stdout",
          "text": [
            "Contingency Table:\n",
            "col_0         count\n",
            "Series             \n",
            "Category_I       11\n",
            "Category_II      11\n",
            "Category_III     11\n",
            "Category_IV      11\n"
          ]
        }
      ]
    },
    {
      "cell_type": "markdown",
      "source": [
        "How to Construct Histograms with Overlay Using R/Python\n"
      ],
      "metadata": {
        "id": "J-oNcHmTBLQ2"
      }
    },
    {
      "cell_type": "code",
      "source": [
        "import seaborn as sns\n",
        "\n",
        "# Create a DataFrame for the dataset\n",
        "df = pd.DataFrame(anscombe_data)\n",
        "\n",
        "# Plot histograms with overlay for 'X' and 'Y'\n",
        "plt.figure(figsize=(10, 6))\n",
        "sns.histplot(data=df, x='X', color='blue', alpha=0.5, kde=True, label='X')\n",
        "sns.histplot(data=df, x='Y', color='orange', alpha=0.5, kde=True, label='Y')\n",
        "plt.xlabel('Values')\n",
        "plt.ylabel('Frequency')\n",
        "plt.title('Histograms with Overlay')\n",
        "plt.legend()\n",
        "plt.show()\n"
      ],
      "metadata": {
        "colab": {
          "base_uri": "https://localhost:8080/",
          "height": 564
        },
        "id": "FG9hv7ss5eGZ",
        "outputId": "b398227e-945a-4d27-acad-523245f253db"
      },
      "execution_count": 19,
      "outputs": [
        {
          "output_type": "display_data",
          "data": {
            "text/plain": [
              "<Figure size 1000x600 with 1 Axes>"
            ],
            "image/png": "[encoded data removed]"
          },
          "metadata": {}
        }
      ]
    },
    {
      "cell_type": "markdown",
      "source": [
        "How to Perform Binning Based on Predictive Value Using R/Python\n"
      ],
      "metadata": {
        "id": "Wo7I-kaTBORj"
      }
    },
    {
      "cell_type": "code",
      "source": [
        "# Create bins based on the 'X' column\n",
        "bins = pd.cut(df['X'], bins=3, labels=['Low', 'Medium', 'High'])\n",
        "\n",
        "# Add the bins as a new column in the DataFrame\n",
        "df['X_bins'] = bins\n",
        "\n",
        "# Display the DataFrame with the new bin column\n",
        "print(\"DataFrame with Binned 'X' Values:\")\n",
        "print(df[['X', 'X_bins']])\n"
      ],
      "metadata": {
        "colab": {
          "base_uri": "https://localhost:8080/"
        },
        "id": "92K9Anqu5jQl",
        "outputId": "6af70348-4573-40d3-e0ae-c65ce62d0f02"
      },
      "execution_count": 20,
      "outputs": [
        {
          "output_type": "stream",
          "name": "stdout",
          "text": [
            "DataFrame with Binned 'X' Values:\n",
            "       X  X_bins\n",
            "0   10.0  Medium\n",
            "1    8.0     Low\n",
            "2   13.0  Medium\n",
            "3    9.0     Low\n",
            "4   11.0  Medium\n",
            "5   14.0  Medium\n",
            "6    6.0     Low\n",
            "7    4.0     Low\n",
            "8   12.0  Medium\n",
            "9    7.0     Low\n",
            "10   5.0     Low\n",
            "11  10.0  Medium\n",
            "12   8.0     Low\n",
            "13  13.0  Medium\n",
            "14   9.0     Low\n",
            "15  11.0  Medium\n",
            "16  14.0  Medium\n",
            "17   6.0     Low\n",
            "18   4.0     Low\n",
            "19  12.0  Medium\n",
            "20   7.0     Low\n",
            "21   5.0     Low\n",
            "22  10.0  Medium\n",
            "23   8.0     Low\n",
            "24  13.0  Medium\n",
            "25   9.0     Low\n",
            "26  11.0  Medium\n",
            "27  14.0  Medium\n",
            "28   6.0     Low\n",
            "29   4.0     Low\n",
            "30  12.0  Medium\n",
            "31   7.0     Low\n",
            "32   5.0     Low\n",
            "33   8.0     Low\n",
            "34   8.0     Low\n",
            "35   8.0     Low\n",
            "36   8.0     Low\n",
            "37   8.0     Low\n",
            "38   8.0     Low\n",
            "39   8.0     Low\n",
            "40  19.0    High\n",
            "41   8.0     Low\n",
            "42   8.0     Low\n",
            "43   8.0     Low\n"
          ]
        }
      ]
    },
    {
      "cell_type": "markdown",
      "source": [
        "#4:    DATA PREPARATION PHASE TO MODEL THE DATA\n"
      ],
      "metadata": {
        "id": "ABCnoxfCBUKW"
      }
    },
    {
      "cell_type": "markdown",
      "source": [
        "How to Partition the Data R/Python\n"
      ],
      "metadata": {
        "id": "8fc4cD5ABXv3"
      }
    },
    {
      "cell_type": "code",
      "source": [
        "from sklearn.model_selection import train_test_split\n",
        "\n",
        "# Separate features (X) and target variable (y)\n",
        "X = pd.DataFrame(anscombe_data)[['X', 'Y']]\n",
        "y = pd.DataFrame(anscombe_data)['Series']\n",
        "\n",
        "# Split the data into training and testing sets (80% training, 20% testing)\n",
        "X_train, X_test, y_train, y_test = train_test_split(X, y, test_size=0.2, random_state=42)\n",
        "\n",
        "# Display the shapes of the training and testing sets\n",
        "print(\"Training set shape:\", X_train.shape, y_train.shape)\n",
        "print(\"Testing set shape:\", X_test.shape, y_test.shape)\n"
      ],
      "metadata": {
        "colab": {
          "base_uri": "https://localhost:8080/"
        },
        "id": "R6EO7Oi45lm0",
        "outputId": "305e9ac9-20da-49f7-ddcb-2f6c56dbc564"
      },
      "execution_count": 21,
      "outputs": [
        {
          "output_type": "stream",
          "name": "stdout",
          "text": [
            "Training set shape: (35, 2) (35,)\n",
            "Testing set shape: (9, 2) (9,)\n"
          ]
        }
      ]
    },
    {
      "cell_type": "markdown",
      "source": [
        "How to Balance the Training Data Set R/Python\n"
      ],
      "metadata": {
        "id": "BHw-0wTOCI-o"
      }
    },
    {
      "cell_type": "code",
      "source": [
        "from imblearn.over_sampling import SMOTE\n",
        "\n",
        "# Oversample the training data\n",
        "oversample = SMOTE()\n",
        "X_train_balanced, y_train_balanced = oversample.fit_resample(X_train, y_train)\n",
        "\n",
        "# Display the shapes of the balanced training set\n",
        "print(\"Balanced Training set shape:\", X_train_balanced.shape, y_train_balanced.shape)\n"
      ],
      "metadata": {
        "colab": {
          "base_uri": "https://localhost:8080/"
        },
        "id": "w23KLkdY50wh",
        "outputId": "a2305350-74c2-488e-92ff-0166bae10a80"
      },
      "execution_count": 22,
      "outputs": [
        {
          "output_type": "stream",
          "name": "stdout",
          "text": [
            "Balanced Training set shape: (40, 2) (40,)\n"
          ]
        }
      ]
    },
    {
      "cell_type": "markdown",
      "source": [
        "How to Build CART Decision Trees Using R/Python\n"
      ],
      "metadata": {
        "id": "EDbZFij3CMJE"
      }
    },
    {
      "cell_type": "code",
      "source": [
        "from sklearn.tree import DecisionTreeClassifier\n",
        "from sklearn.metrics import accuracy_score\n",
        "\n",
        "# Create a CART decision tree model\n",
        "cart_model = DecisionTreeClassifier(random_state=42)\n",
        "\n",
        "# Fit the model on the training data\n",
        "cart_model.fit(X_train, y_train)\n",
        "\n",
        "# Make predictions on the testing data\n",
        "y_pred_cart = cart_model.predict(X_test)\n",
        "\n",
        "# Calculate accuracy\n",
        "accuracy_cart = accuracy_score(y_test, y_pred_cart)\n",
        "\n",
        "# Display the accuracy\n",
        "print(\"CART Decision Tree Accuracy:\", accuracy_cart)\n"
      ],
      "metadata": {
        "colab": {
          "base_uri": "https://localhost:8080/"
        },
        "id": "u_B1jtFz52_X",
        "outputId": "13460288-0031-48a5-d5ec-b75769bc8861"
      },
      "execution_count": 23,
      "outputs": [
        {
          "output_type": "stream",
          "name": "stdout",
          "text": [
            "CART Decision Tree Accuracy: 0.3333333333333333\n"
          ]
        }
      ]
    },
    {
      "cell_type": "markdown",
      "source": [
        "How to Build C5.0 Decision Trees Using R/Python\n"
      ],
      "metadata": {
        "id": "NFxcMWV-COwa"
      }
    },
    {
      "cell_type": "code",
      "source": [
        "from sklearn.ensemble import RandomForestClassifier\n",
        "\n",
        "# Create a Random Forest model\n",
        "rf_model = RandomForestClassifier(random_state=42)\n",
        "\n",
        "# Fit the model on the training data\n",
        "rf_model.fit(X_train, y_train)\n",
        "\n",
        "# Make predictions on the testing data\n",
        "y_pred_rf = rf_model.predict(X_test)\n",
        "\n",
        "# Calculate accuracy\n",
        "accuracy_rf = accuracy_score(y_test, y_pred_rf)\n",
        "\n",
        "# Display the accuracy\n",
        "print(\"Random Forest Accuracy:\", accuracy_rf)\n"
      ],
      "metadata": {
        "colab": {
          "base_uri": "https://localhost:8080/"
        },
        "id": "bhqTYU-J55yp",
        "outputId": "5c972ceb-61a4-487d-8c44-ec345e1186df"
      },
      "execution_count": 24,
      "outputs": [
        {
          "output_type": "stream",
          "name": "stdout",
          "text": [
            "Random Forest Accuracy: 0.3333333333333333\n"
          ]
        }
      ]
    },
    {
      "cell_type": "markdown",
      "source": [
        "How to Build Random Forests R/Python\n"
      ],
      "metadata": {
        "id": "6SpeM_TgCRK8"
      }
    },
    {
      "cell_type": "code",
      "source": [
        "from sklearn.metrics import classification_report, confusion_matrix\n",
        "\n",
        "# Display confusion matrix and classification report for the Random Forest model\n",
        "print(\"Confusion Matrix:\")\n",
        "print(confusion_matrix(y_test, y_pred_rf))\n",
        "\n",
        "print(\"\\nClassification Report:\")\n",
        "print(classification_report(y_test, y_pred_rf))\n"
      ],
      "metadata": {
        "colab": {
          "base_uri": "https://localhost:8080/"
        },
        "id": "cFo9lOSR6GdK",
        "outputId": "a171b931-77ed-4279-c05b-ccfea60cd367"
      },
      "execution_count": 25,
      "outputs": [
        {
          "output_type": "stream",
          "name": "stdout",
          "text": [
            "Confusion Matrix:\n",
            "[[0 1 1 0]\n",
            " [0 0 0 1]\n",
            " [0 1 0 1]\n",
            " [1 0 0 3]]\n",
            "\n",
            "Classification Report:\n",
            "              precision    recall  f1-score   support\n",
            "\n",
            "  Category_I       0.00      0.00      0.00         2\n",
            " Category_II       0.00      0.00      0.00         1\n",
            "Category_III       0.00      0.00      0.00         2\n",
            " Category_IV       0.60      0.75      0.67         4\n",
            "\n",
            "    accuracy                           0.33         9\n",
            "   macro avg       0.15      0.19      0.17         9\n",
            "weighted avg       0.27      0.33      0.30         9\n",
            "\n"
          ]
        }
      ]
    },
    {
      "cell_type": "markdown",
      "source": [
        "#5: MODEL EVALUATION\n",
        "\n"
      ],
      "metadata": {
        "id": "MhRI_Dk4CTru"
      }
    },
    {
      "cell_type": "markdown",
      "source": [
        "\n",
        "\n",
        "*   How to Perform Model Evaluation Using R/Python\n",
        "\n",
        "*   Accounting for Unequal Error Costs Using R/Python\n",
        "\n"
      ],
      "metadata": {
        "id": "gtXqx5Q-CWnd"
      }
    },
    {
      "cell_type": "code",
      "source": [
        "# Define class weights (adjust as needed based on error costs)\n",
        "class_weights = {'Category_I': 1, 'Category_II': 1, 'Category_III': 1, 'Category_IV': 10}\n",
        "\n",
        "# Create a Random Forest model with class weights\n",
        "rf_model_weighted = RandomForestClassifier(random_state=42, class_weight=class_weights)\n",
        "\n",
        "# Fit the model on the training data\n",
        "rf_model_weighted.fit(X_train, y_train)\n",
        "\n",
        "# Make predictions on the testing data\n",
        "y_pred_rf_weighted = rf_model_weighted.predict(X_test)\n",
        "\n",
        "# Display the confusion matrix and classification report for the weighted Random Forest model\n",
        "print(\"Weighted Random Forest Confusion Matrix:\")\n",
        "print(confusion_matrix(y_test, y_pred_rf_weighted))\n",
        "\n",
        "print(\"\\nWeighted Random Forest Classification Report:\")\n",
        "print(classification_report(y_test, y_pred_rf_weighted))\n"
      ],
      "metadata": {
        "colab": {
          "base_uri": "https://localhost:8080/"
        },
        "id": "lgGtnp9B6Ink",
        "outputId": "2ad1cecc-51f8-407a-ba04-f73eb1c1ac7e"
      },
      "execution_count": 26,
      "outputs": [
        {
          "output_type": "stream",
          "name": "stdout",
          "text": [
            "Weighted Random Forest Confusion Matrix:\n",
            "[[0 2 0 0]\n",
            " [0 0 0 1]\n",
            " [0 1 0 1]\n",
            " [1 0 0 3]]\n",
            "\n",
            "Weighted Random Forest Classification Report:\n",
            "              precision    recall  f1-score   support\n",
            "\n",
            "  Category_I       0.00      0.00      0.00         2\n",
            " Category_II       0.00      0.00      0.00         1\n",
            "Category_III       0.00      0.00      0.00         2\n",
            " Category_IV       0.60      0.75      0.67         4\n",
            "\n",
            "    accuracy                           0.33         9\n",
            "   macro avg       0.15      0.19      0.17         9\n",
            "weighted avg       0.27      0.33      0.30         9\n",
            "\n"
          ]
        },
        {
          "output_type": "stream",
          "name": "stderr",
          "text": [
            "/usr/local/lib/python3.10/dist-packages/sklearn/metrics/_classification.py:1344: UndefinedMetricWarning: Precision and F-score are ill-defined and being set to 0.0 in labels with no predicted samples. Use `zero_division` parameter to control this behavior.\n",
            "  _warn_prf(average, modifier, msg_start, len(result))\n",
            "/usr/local/lib/python3.10/dist-packages/sklearn/metrics/_classification.py:1344: UndefinedMetricWarning: Precision and F-score are ill-defined and being set to 0.0 in labels with no predicted samples. Use `zero_division` parameter to control this behavior.\n",
            "  _warn_prf(average, modifier, msg_start, len(result))\n",
            "/usr/local/lib/python3.10/dist-packages/sklearn/metrics/_classification.py:1344: UndefinedMetricWarning: Precision and F-score are ill-defined and being set to 0.0 in labels with no predicted samples. Use `zero_division` parameter to control this behavior.\n",
            "  _warn_prf(average, modifier, msg_start, len(result))\n"
          ]
        }
      ]
    },
    {
      "cell_type": "markdown",
      "source": [
        "#6: NAÏVE BAYES CLASSIFICATION\n",
        "\n",
        "Demonstrate application of Naïve Bayes Using R/Python\n"
      ],
      "metadata": {
        "id": "sDI-g8JIDA0p"
      }
    },
    {
      "cell_type": "code",
      "source": [
        "from sklearn.naive_bayes import GaussianNB\n",
        "\n",
        "# Create a Gaussian Naive Bayes model\n",
        "nb_model = GaussianNB()\n",
        "\n",
        "# Fit the model on the training data\n",
        "nb_model.fit(X_train, y_train)\n",
        "\n",
        "# Make predictions on the testing data\n",
        "y_pred_nb = nb_model.predict(X_test)\n",
        "\n",
        "# Display the confusion matrix and classification report for the Naïve Bayes model\n",
        "print(\"Naïve Bayes Confusion Matrix:\")\n",
        "print(confusion_matrix(y_test, y_pred_nb))\n",
        "\n",
        "print(\"\\nNaïve Bayes Classification Report:\")\n",
        "print(classification_report(y_test, y_pred_nb))\n"
      ],
      "metadata": {
        "colab": {
          "base_uri": "https://localhost:8080/"
        },
        "id": "4Uz6AY0b6N-P",
        "outputId": "ec550a0b-18c3-4dca-fda4-5980a6b139c8"
      },
      "execution_count": 27,
      "outputs": [
        {
          "output_type": "stream",
          "name": "stdout",
          "text": [
            "Naïve Bayes Confusion Matrix:\n",
            "[[0 2 0 0]\n",
            " [0 0 0 1]\n",
            " [0 1 1 0]\n",
            " [0 1 0 3]]\n",
            "\n",
            "Naïve Bayes Classification Report:\n",
            "              precision    recall  f1-score   support\n",
            "\n",
            "  Category_I       0.00      0.00      0.00         2\n",
            " Category_II       0.00      0.00      0.00         1\n",
            "Category_III       1.00      0.50      0.67         2\n",
            " Category_IV       0.75      0.75      0.75         4\n",
            "\n",
            "    accuracy                           0.44         9\n",
            "   macro avg       0.44      0.31      0.35         9\n",
            "weighted avg       0.56      0.44      0.48         9\n",
            "\n"
          ]
        },
        {
          "output_type": "stream",
          "name": "stderr",
          "text": [
            "/usr/local/lib/python3.10/dist-packages/sklearn/metrics/_classification.py:1344: UndefinedMetricWarning: Precision and F-score are ill-defined and being set to 0.0 in labels with no predicted samples. Use `zero_division` parameter to control this behavior.\n",
            "  _warn_prf(average, modifier, msg_start, len(result))\n",
            "/usr/local/lib/python3.10/dist-packages/sklearn/metrics/_classification.py:1344: UndefinedMetricWarning: Precision and F-score are ill-defined and being set to 0.0 in labels with no predicted samples. Use `zero_division` parameter to control this behavior.\n",
            "  _warn_prf(average, modifier, msg_start, len(result))\n",
            "/usr/local/lib/python3.10/dist-packages/sklearn/metrics/_classification.py:1344: UndefinedMetricWarning: Precision and F-score are ill-defined and being set to 0.0 in labels with no predicted samples. Use `zero_division` parameter to control this behavior.\n",
            "  _warn_prf(average, modifier, msg_start, len(result))\n"
          ]
        }
      ]
    },
    {
      "cell_type": "markdown",
      "source": [
        "#7: NEURAL NETWORKS\n",
        "Demonstrate application of NEURAL NETWORKS using R/Python\n"
      ],
      "metadata": {
        "id": "QPjg0LXTCtqr"
      }
    },
    {
      "cell_type": "code",
      "source": [
        "from sklearn.neural_network import MLPClassifier\n",
        "\n",
        "# Create a Neural Network model\n",
        "nn_model = MLPClassifier(random_state=42)\n",
        "\n",
        "# Fit the model on the training data\n",
        "nn_model.fit(X_train, y_train)\n",
        "\n",
        "# Make predictions on the testing data\n",
        "y_pred_nn = nn_model.predict(X_test)\n",
        "\n",
        "# Display the confusion matrix and classification report for the Neural Network model\n",
        "print(\"Neural Network Confusion Matrix:\")\n",
        "print(confusion_matrix(y_test, y_pred_nn))\n",
        "\n",
        "print(\"\\nNeural Network Classification Report:\")\n",
        "print(classification_report(y_test, y_pred_nn))\n"
      ],
      "metadata": {
        "colab": {
          "base_uri": "https://localhost:8080/"
        },
        "id": "z8h4k1TH6Sks",
        "outputId": "070ce8ad-f3a0-4966-c0f4-7dc5ca7596b2"
      },
      "execution_count": 28,
      "outputs": [
        {
          "output_type": "stream",
          "name": "stdout",
          "text": [
            "Neural Network Confusion Matrix:\n",
            "[[2 0 0 0]\n",
            " [1 0 0 0]\n",
            " [2 0 0 0]\n",
            " [3 0 1 0]]\n",
            "\n",
            "Neural Network Classification Report:\n",
            "              precision    recall  f1-score   support\n",
            "\n",
            "  Category_I       0.25      1.00      0.40         2\n",
            " Category_II       0.00      0.00      0.00         1\n",
            "Category_III       0.00      0.00      0.00         2\n",
            " Category_IV       0.00      0.00      0.00         4\n",
            "\n",
            "    accuracy                           0.22         9\n",
            "   macro avg       0.06      0.25      0.10         9\n",
            "weighted avg       0.06      0.22      0.09         9\n",
            "\n"
          ]
        },
        {
          "output_type": "stream",
          "name": "stderr",
          "text": [
            "/usr/local/lib/python3.10/dist-packages/sklearn/metrics/_classification.py:1344: UndefinedMetricWarning: Precision and F-score are ill-defined and being set to 0.0 in labels with no predicted samples. Use `zero_division` parameter to control this behavior.\n",
            "  _warn_prf(average, modifier, msg_start, len(result))\n",
            "/usr/local/lib/python3.10/dist-packages/sklearn/metrics/_classification.py:1344: UndefinedMetricWarning: Precision and F-score are ill-defined and being set to 0.0 in labels with no predicted samples. Use `zero_division` parameter to control this behavior.\n",
            "  _warn_prf(average, modifier, msg_start, len(result))\n",
            "/usr/local/lib/python3.10/dist-packages/sklearn/metrics/_classification.py:1344: UndefinedMetricWarning: Precision and F-score are ill-defined and being set to 0.0 in labels with no predicted samples. Use `zero_division` parameter to control this behavior.\n",
            "  _warn_prf(average, modifier, msg_start, len(result))\n"
          ]
        }
      ]
    },
    {
      "cell_type": "markdown",
      "source": [
        "#8: CLUSTERING\n",
        "\n",
        " Demonstrate  application of k‐MEANS CLUSTERING Using R/Python\n"
      ],
      "metadata": {
        "id": "N9IXWw8aDGsz"
      }
    },
    {
      "cell_type": "code",
      "source": [
        "from sklearn.cluster import KMeans\n",
        "\n",
        "# Assume k=3 for demonstration purposes\n",
        "kmeans_model = KMeans(n_clusters=3, random_state=42)\n",
        "\n",
        "# Fit the model on the data\n",
        "kmeans_model.fit(X)\n",
        "\n",
        "# Get cluster labels\n",
        "cluster_labels = kmeans_model.labels_\n",
        "\n",
        "# Display the cluster labels\n",
        "print(\"Cluster Labels:\")\n",
        "print(cluster_labels)\n",
        "\n"
      ],
      "metadata": {
        "colab": {
          "base_uri": "https://localhost:8080/"
        },
        "id": "dI6Mo7hz6V41",
        "outputId": "1829cd1d-7b82-4c42-dfeb-76728ca032cf"
      },
      "execution_count": 29,
      "outputs": [
        {
          "output_type": "stream",
          "name": "stderr",
          "text": [
            "/usr/local/lib/python3.10/dist-packages/sklearn/cluster/_kmeans.py:870: FutureWarning: The default value of `n_init` will change from 10 to 'auto' in 1.4. Set the value of `n_init` explicitly to suppress the warning\n",
            "  warnings.warn(\n"
          ]
        },
        {
          "output_type": "stream",
          "name": "stdout",
          "text": [
            "Cluster Labels:\n",
            "[0 0 2 0 2 2 1 1 2 1 1 0 0 2 0 2 2 1 1 2 0 1 0 0 2 0 0 2 1 1 2 0 1 0 0 0 0\n",
            " 0 0 0 2 0 0 0]\n"
          ]
        }
      ]
    },
    {
      "cell_type": "markdown",
      "source": [
        "#9: REGRESSION MODELLING\n",
        "\n",
        "\n",
        "*   Demonstrate Estimation Model Evaluation Using R/Python\n",
        "*   Demonstrate Stepwise Regression Using R/Python\n",
        "\n"
      ],
      "metadata": {
        "id": "O0OaoIduDJhh"
      }
    },
    {
      "cell_type": "code",
      "source": [
        "from sklearn.linear_model import LinearRegression\n",
        "from sklearn.metrics import mean_squared_error, r2_score\n",
        "\n",
        "# Assume X and Y are features and target variables, respectively\n",
        "X = pd.DataFrame(anscombe_data)['X'].values.reshape(-1, 1)\n",
        "y = pd.DataFrame(anscombe_data)['Y']\n",
        "\n",
        "# Create a Linear Regression model\n",
        "reg_model = LinearRegression()\n",
        "\n",
        "# Fit the model on the data\n",
        "reg_model.fit(X, y)\n",
        "\n",
        "# Make predictions on the data\n",
        "y_pred = reg_model.predict(X)\n",
        "\n",
        "# Evaluate the model\n",
        "mse = mean_squared_error(y, y_pred)\n",
        "r2 = r2_score(y, y_pred)\n",
        "\n",
        "# Display the evaluation metrics\n",
        "print(\"Mean Squared Error:\", mse)\n",
        "print(\"R-squared:\", r2)\n",
        "\n"
      ],
      "metadata": {
        "colab": {
          "base_uri": "https://localhost:8080/"
        },
        "id": "DgsngIGa8Agi",
        "outputId": "a929572e-422d-4734-b4a8-b09cba6d67c7"
      },
      "execution_count": 30,
      "outputs": [
        {
          "output_type": "stream",
          "name": "stdout",
          "text": [
            "Mean Squared Error: 1.251622515495868\n",
            "R-squared: 0.6663581327013701\n"
          ]
        }
      ]
    },
    {
      "cell_type": "code",
      "source": [
        "import statsmodels.api as sm\n",
        "\n",
        "# Add a constant to the features for intercept term\n",
        "X = sm.add_constant(X)\n",
        "\n",
        "# Create a linear regression model using ordinary least squares (OLS)\n",
        "reg_model_stepwise = sm.OLS(y, X).fit()\n",
        "\n",
        "# Display the summary of the stepwise regression\n",
        "print(reg_model_stepwise.summary())\n",
        "\n"
      ],
      "metadata": {
        "colab": {
          "base_uri": "https://localhost:8080/"
        },
        "id": "ZpmQQ2sR-qs6",
        "outputId": "d1cbe913-bc10-4fc0-bb2f-82ebb8dd0435"
      },
      "execution_count": 31,
      "outputs": [
        {
          "output_type": "stream",
          "name": "stdout",
          "text": [
            "                            OLS Regression Results                            \n",
            "==============================================================================\n",
            "Dep. Variable:                      Y   R-squared:                       0.666\n",
            "Model:                            OLS   Adj. R-squared:                  0.658\n",
            "Method:                 Least Squares   F-statistic:                     83.88\n",
            "Date:                Thu, 07 Dec 2023   Prob (F-statistic):           1.45e-11\n",
            "Time:                        15:52:36   Log-Likelihood:                -67.371\n",
            "No. Observations:                  44   AIC:                             138.7\n",
            "Df Residuals:                      42   BIC:                             142.3\n",
            "Df Model:                           1                                         \n",
            "Covariance Type:            nonrobust                                         \n",
            "==============================================================================\n",
            "                 coef    std err          t      P>|t|      [0.025      0.975]\n",
            "------------------------------------------------------------------------------\n",
            "const          3.0007      0.521      5.762      0.000       1.950       4.052\n",
            "x1             0.5000      0.055      9.159      0.000       0.390       0.610\n",
            "==============================================================================\n",
            "Omnibus:                        1.504   Durbin-Watson:                   2.327\n",
            "Prob(Omnibus):                  0.471   Jarque-Bera (JB):                0.890\n",
            "Skew:                           0.338   Prob(JB):                        0.641\n",
            "Kurtosis:                       3.166   Cond. No.                         29.1\n",
            "==============================================================================\n",
            "\n",
            "Notes:\n",
            "[1] Standard Errors assume that the covariance matrix of the errors is correctly specified.\n"
          ]
        }
      ]
    },
    {
      "cell_type": "markdown",
      "source": [
        "#10: DIMENSION REDUCTION DIMENSION REDUCTION\n",
        "\n",
        "\n",
        "*   Demonstrate How you will  Identify Multicollinearity R/Python\n",
        "\n",
        "\n",
        "*   Demonstrate HOW you’ll apply PRINCIPAL COMPONENTS ANALYSIS Using R/Python\n",
        "\n"
      ],
      "metadata": {
        "id": "CnVSiztJDhbZ"
      }
    },
    {
      "cell_type": "code",
      "source": [
        "from statsmodels.stats.outliers_influence import variance_inflation_factor\n",
        "\n",
        "# Assume X is the feature matrix\n",
        "X = pd.DataFrame(anscombe_data)[['X', 'Y']]\n",
        "\n",
        "# Calculate VIF for each feature\n",
        "vif_data = pd.DataFrame()\n",
        "vif_data[\"Variable\"] = X.columns\n",
        "vif_data[\"VIF\"] = [variance_inflation_factor(X.values, i) for i in range(X.shape[1])]\n",
        "\n",
        "# Display the VIF values\n",
        "print(\"Variance Inflation Factor (VIF):\")\n",
        "print(vif_data)\n"
      ],
      "metadata": {
        "colab": {
          "base_uri": "https://localhost:8080/"
        },
        "id": "WoiVNhHJ-weP",
        "outputId": "d2f80192-32dd-4bee-ed3e-b148ec9a4f33"
      },
      "execution_count": 32,
      "outputs": [
        {
          "output_type": "stream",
          "name": "stdout",
          "text": [
            "Variance Inflation Factor (VIF):\n",
            "  Variable        VIF\n",
            "0        X  26.776613\n",
            "1        Y  26.776613\n"
          ]
        }
      ]
    },
    {
      "cell_type": "code",
      "source": [
        "from sklearn.decomposition import PCA\n",
        "\n",
        "# Assume X is the feature matrix\n",
        "X = pd.DataFrame(anscombe_data)[['X', 'Y']]\n",
        "\n",
        "# Create a PCA model with two components\n",
        "pca = PCA(n_components=2)\n",
        "\n",
        "# Fit and transform the data using PCA\n",
        "X_pca = pca.fit_transform(X)\n",
        "\n",
        "# Display the principal components\n",
        "print(\"Principal Components:\")\n",
        "print(X_pca)\n"
      ],
      "metadata": {
        "colab": {
          "base_uri": "https://localhost:8080/"
        },
        "id": "0LmTtt51-4LJ",
        "outputId": "bcb643d4-2feb-4eb4-8d7f-885c41a94fe0"
      },
      "execution_count": 33,
      "outputs": [
        {
          "output_type": "stream",
          "name": "stdout",
          "text": [
            "Principal Components:\n",
            "[[ 1.13619662e+00 -1.29045546e-02]\n",
            " [-1.14148539e+00  3.36321159e-03]\n",
            " [ 3.53705636e+00 -1.86964162e+00]\n",
            " [ 6.34872192e-01  1.14535872e+00]\n",
            " [ 2.15141274e+00 -2.44067331e-01]\n",
            " [ 5.56551175e+00 -2.72842096e-01]\n",
            " [-2.75013860e+00  1.22661087e+00]\n",
            " [-5.94409919e+00 -4.10159043e-01]\n",
            " [ 4.24289259e+00  1.46643320e+00]\n",
            " [-3.05358795e+00 -1.38352677e+00]\n",
            " [-4.38105514e+00  3.47002297e-01]\n",
            " [ 1.66948045e+00  9.49180868e-01]\n",
            " [-5.64569250e-01  1.04416471e+00]\n",
            " [ 4.09942839e+00 -8.55078813e-01]\n",
            " [ 6.15480053e-01  1.11037380e+00]\n",
            " [ 2.60227998e+00  5.69332162e-01]\n",
            " [ 4.66377728e+00 -1.89964108e+00]\n",
            " [-3.28827047e+00  2.55779218e-01]\n",
            " [-6.50647123e+00 -1.42472185e+00]\n",
            " [ 3.41387864e+00 -2.91723208e-02]\n",
            " [-1.86581942e+00  7.59299855e-01]\n",
            " [-4.83677041e+00 -4.75143428e-01]\n",
            " [ 8.55010607e-01 -5.20185959e-01]\n",
            " [-1.22875002e+00 -1.54068948e-01]\n",
            " [ 6.03864231e+00  2.64341363e+00]\n",
            " [-1.89293722e-01 -3.41500569e-01]\n",
            " [ 1.89931494e+00 -6.98871349e-01]\n",
            " [ 5.02253185e+00 -1.25241998e+00]\n",
            " [-3.31251064e+00  2.12048062e-01]\n",
            " [-5.39627126e+00  5.78165073e-01]\n",
            " [ 2.93877123e+00 -8.86302970e-01]\n",
            " [-2.27305435e+00  2.46164414e-02]\n",
            " [-4.35681497e+00  3.90733452e-01]\n",
            " [-1.32086268e+00 -3.20247340e-01]\n",
            " [-1.71840153e+00 -1.03743829e+00]\n",
            " [-7.73034746e-01  6.68076776e-01]\n",
            " [-2.25206815e-01  1.65640089e+00]\n",
            " [-4.04584102e-01  1.33279034e+00]\n",
            " [-1.09785308e+00  8.20792916e-02]\n",
            " [-1.96565130e+00 -1.48349608e+00]\n",
            " [ 1.11700281e+01 -4.75316787e-01]\n",
            " [-1.81536223e+00 -1.21236291e+00]\n",
            " [-6.76074050e-01  8.43001399e-01]\n",
            " [-1.17057360e+00 -4.91141751e-02]]\n"
          ]
        }
      ]
    },
    {
      "cell_type": "markdown",
      "source": [
        "#11: LOGISTIC REGRESSION MODELLING\n",
        "\n",
        "\n",
        "*   How to Perform Logistic Regression Using R/Python\n",
        "\n",
        "*   How to Perform Poisson Regression Using R/Python\n",
        "\n",
        "\n"
      ],
      "metadata": {
        "id": "NTrA7vdEDwi-"
      }
    },
    {
      "cell_type": "code",
      "source": [
        "from sklearn.linear_model import LogisticRegression\n",
        "from sklearn.metrics import accuracy_score, classification_report\n",
        "\n",
        "# Assume X and Y are features and target variables, respectively\n",
        "X = pd.DataFrame(anscombe_data)[['X', 'Y']]\n",
        "y = pd.DataFrame(anscombe_data)['Series']\n",
        "\n",
        "# Create a Logistic Regression model\n",
        "logistic_model = LogisticRegression()\n",
        "\n",
        "# Fit the model on the data\n",
        "logistic_model.fit(X, y)\n",
        "\n",
        "# Make predictions on the data\n",
        "y_pred_logistic = logistic_model.predict(X)\n",
        "\n",
        "# Evaluate the model\n",
        "accuracy_logistic = accuracy_score(y, y_pred_logistic)\n",
        "classification_report_logistic = classification_report(y, y_pred_logistic)\n",
        "\n",
        "# Display the evaluation metrics\n",
        "print(\"Logistic Regression Accuracy:\", accuracy_logistic)\n",
        "print(\"Logistic Regression Classification Report:\")\n",
        "print(classification_report_logistic)\n"
      ],
      "metadata": {
        "colab": {
          "base_uri": "https://localhost:8080/"
        },
        "id": "VDKit7Lr-7wf",
        "outputId": "eb7a2f8a-73aa-4ca0-cf3d-1e6c1aa430ef"
      },
      "execution_count": 34,
      "outputs": [
        {
          "output_type": "stream",
          "name": "stdout",
          "text": [
            "Logistic Regression Accuracy: 0.25\n",
            "Logistic Regression Classification Report:\n",
            "              precision    recall  f1-score   support\n",
            "\n",
            "  Category_I       0.00      0.00      0.00        11\n",
            " Category_II       0.00      0.00      0.00        11\n",
            "Category_III       0.00      0.00      0.00        11\n",
            " Category_IV       0.25      1.00      0.40        11\n",
            "\n",
            "    accuracy                           0.25        44\n",
            "   macro avg       0.06      0.25      0.10        44\n",
            "weighted avg       0.06      0.25      0.10        44\n",
            "\n"
          ]
        },
        {
          "output_type": "stream",
          "name": "stderr",
          "text": [
            "/usr/local/lib/python3.10/dist-packages/sklearn/metrics/_classification.py:1344: UndefinedMetricWarning: Precision and F-score are ill-defined and being set to 0.0 in labels with no predicted samples. Use `zero_division` parameter to control this behavior.\n",
            "  _warn_prf(average, modifier, msg_start, len(result))\n",
            "/usr/local/lib/python3.10/dist-packages/sklearn/metrics/_classification.py:1344: UndefinedMetricWarning: Precision and F-score are ill-defined and being set to 0.0 in labels with no predicted samples. Use `zero_division` parameter to control this behavior.\n",
            "  _warn_prf(average, modifier, msg_start, len(result))\n",
            "/usr/local/lib/python3.10/dist-packages/sklearn/metrics/_classification.py:1344: UndefinedMetricWarning: Precision and F-score are ill-defined and being set to 0.0 in labels with no predicted samples. Use `zero_division` parameter to control this behavior.\n",
            "  _warn_prf(average, modifier, msg_start, len(result))\n"
          ]
        }
      ]
    },
    {
      "cell_type": "code",
      "source": [
        "import statsmodels.api as sm\n",
        "\n",
        "# Assume X and Y are features and target variables, respectively\n",
        "X = pd.DataFrame(anscombe_data)['X']\n",
        "y = pd.DataFrame(anscombe_data)['Y']\n",
        "\n",
        "# Add a constant to the features for intercept term\n",
        "X = sm.add_constant(X)\n",
        "\n",
        "# Create a Poisson Regression model\n",
        "poisson_model = sm.GLM(y, X, family=sm.families.Poisson()).fit()\n",
        "\n",
        "# Display the summary of the Poisson regression\n",
        "print(poisson_model.summary())\n"
      ],
      "metadata": {
        "colab": {
          "base_uri": "https://localhost:8080/"
        },
        "id": "Wu-mAI52-_q4",
        "outputId": "2af652ee-2405-4672-bb0b-18c3836ae968"
      },
      "execution_count": 35,
      "outputs": [
        {
          "output_type": "stream",
          "name": "stdout",
          "text": [
            "                 Generalized Linear Model Regression Results                  \n",
            "==============================================================================\n",
            "Dep. Variable:                      Y   No. Observations:                   44\n",
            "Model:                            GLM   Df Residuals:                       42\n",
            "Model Family:                 Poisson   Df Model:                            1\n",
            "Link Function:                    Log   Scale:                          1.0000\n",
            "Method:                          IRLS   Log-Likelihood:                -88.560\n",
            "Date:                Thu, 07 Dec 2023   Deviance:                       8.0802\n",
            "Time:                        15:53:35   Pearson chi2:                     8.00\n",
            "No. Iterations:                     4   Pseudo R-squ. (CS):             0.2722\n",
            "Covariance Type:            nonrobust                                         \n",
            "==============================================================================\n",
            "                 coef    std err          z      P>|z|      [0.025      0.975]\n",
            "------------------------------------------------------------------------------\n",
            "const          1.4360      0.166      8.640      0.000       1.110       1.762\n",
            "X              0.0621      0.016      3.827      0.000       0.030       0.094\n",
            "==============================================================================\n"
          ]
        }
      ]
    },
    {
      "cell_type": "markdown",
      "source": [
        "#12: ASSOCIATION RULES\n",
        "\n",
        "\n",
        "\n",
        "*   How to Mine Association Rules Using R/Python\n",
        "\n",
        "*  How to Apply the Confidence Difference Criterion Using R/Python\n",
        "\n",
        "*   How to Apply the Confidence Quotient Criterion Using R/Python\n",
        "\n",
        "\n",
        "\n"
      ],
      "metadata": {
        "id": "xSm9pMetD9Jq"
      }
    },
    {
      "cell_type": "code",
      "source": [
        "from mlxtend.frequent_patterns import apriori\n",
        "from mlxtend.frequent_patterns import association_rules\n",
        "\n",
        "# Assume X is a DataFrame with binary values (0 or 1)\n",
        "X = pd.get_dummies(pd.DataFrame(anscombe_data)['Series'])\n",
        "\n",
        "# Find frequent itemsets using Apriori\n",
        "frequent_itemsets = apriori(X, min_support=0.2, use_colnames=True)\n",
        "\n",
        "# Mine association rules\n",
        "rules = association_rules(frequent_itemsets, metric=\"confidence\", min_threshold=0.7)\n",
        "\n",
        "# Display the association rules\n",
        "print(\"Association Rules:\")\n",
        "print(rules)\n"
      ],
      "metadata": {
        "colab": {
          "base_uri": "https://localhost:8080/"
        },
        "id": "iSCIrLoI_Cii",
        "outputId": "d31ed0f5-98c7-47f8-8a6b-251f56363b18"
      },
      "execution_count": 39,
      "outputs": [
        {
          "output_type": "stream",
          "name": "stdout",
          "text": [
            "Association Rules:\n",
            "Empty DataFrame\n",
            "Columns: [antecedents, consequents, antecedent support, consequent support, support, confidence, lift, leverage, conviction, zhangs_metric]\n",
            "Index: []\n"
          ]
        },
        {
          "output_type": "stream",
          "name": "stderr",
          "text": [
            "/usr/local/lib/python3.10/dist-packages/ipykernel/ipkernel.py:283: DeprecationWarning: `should_run_async` will not call `transform_cell` automatically in the future. Please pass the result to `transformed_cell` argument and any exception that happen during thetransform in `preprocessing_exc_tuple` in IPython 7.17 and above.\n",
            "  and should_run_async(code)\n",
            "/usr/local/lib/python3.10/dist-packages/mlxtend/frequent_patterns/fpcommon.py:110: DeprecationWarning: DataFrames with non-bool types result in worse computationalperformance and their support might be discontinued in the future.Please use a DataFrame with bool type\n",
            "  warnings.warn(\n"
          ]
        }
      ]
    },
    {
      "cell_type": "code",
      "source": [
        "# Assume rules is the result from association_rules function\n",
        "\n",
        "# Calculate the confidence difference\n",
        "rules['confidence_difference'] = rules['confidence'] - rules['antecedent support']\n",
        "\n",
        "# Apply the confidence difference criterion (adjust threshold as needed)\n",
        "confidence_difference_threshold = 0.2\n",
        "filtered_rules_difference = rules[abs(rules['confidence_difference']) > confidence_difference_threshold]\n",
        "\n",
        "# Display the filtered rules\n",
        "print(\"Filtered Rules based on Confidence Difference:\")\n",
        "print(filtered_rules_difference)\n"
      ],
      "metadata": {
        "colab": {
          "base_uri": "https://localhost:8080/"
        },
        "id": "36ZodY1y_KT-",
        "outputId": "9de9e967-c8de-405d-b541-e8f5153b7161"
      },
      "execution_count": 41,
      "outputs": [
        {
          "output_type": "stream",
          "name": "stdout",
          "text": [
            "Filtered Rules based on Confidence Difference:\n",
            "Empty DataFrame\n",
            "Columns: [antecedents, consequents, antecedent support, consequent support, support, confidence, lift, leverage, conviction, zhangs_metric, confidence_difference]\n",
            "Index: []\n"
          ]
        },
        {
          "output_type": "stream",
          "name": "stderr",
          "text": [
            "/usr/local/lib/python3.10/dist-packages/ipykernel/ipkernel.py:283: DeprecationWarning: `should_run_async` will not call `transform_cell` automatically in the future. Please pass the result to `transformed_cell` argument and any exception that happen during thetransform in `preprocessing_exc_tuple` in IPython 7.17 and above.\n",
            "  and should_run_async(code)\n"
          ]
        }
      ]
    },
    {
      "cell_type": "code",
      "source": [
        "# Assume rules is the result from association_rules function\n",
        "\n",
        "# Calculate the confidence quotient\n",
        "rules['confidence_quotient'] = rules['confidence'] / rules['antecedent support']\n",
        "\n",
        "# Apply the confidence quotient criterion (adjust threshold as needed)\n",
        "confidence_quotient_threshold = 1.5\n",
        "filtered_rules_quotient = rules[rules['confidence_quotient'] > confidence_quotient_threshold]\n",
        "\n",
        "# Display the filtered rules\n",
        "print(\"Filtered Rules based on Confidence Quotient:\")\n",
        "print(filtered_rules_quotient)\n"
      ],
      "metadata": {
        "colab": {
          "base_uri": "https://localhost:8080/"
        },
        "id": "L7-VMNcB_Tdy",
        "outputId": "9dfcde47-c5ce-4d22-d100-bb1f41f4cbe4"
      },
      "execution_count": 42,
      "outputs": [
        {
          "output_type": "stream",
          "name": "stdout",
          "text": [
            "Filtered Rules based on Confidence Quotient:\n",
            "Empty DataFrame\n",
            "Columns: [antecedents, consequents, antecedent support, consequent support, support, confidence, lift, leverage, conviction, zhangs_metric, confidence_difference, confidence_quotient]\n",
            "Index: []\n"
          ]
        },
        {
          "output_type": "stream",
          "name": "stderr",
          "text": [
            "/usr/local/lib/python3.10/dist-packages/ipykernel/ipkernel.py:283: DeprecationWarning: `should_run_async` will not call `transform_cell` automatically in the future. Please pass the result to `transformed_cell` argument and any exception that happen during thetransform in `preprocessing_exc_tuple` in IPython 7.17 and above.\n",
            "  and should_run_async(code)\n"
          ]
        }
      ]
    }
  ]
}